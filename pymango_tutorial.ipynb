{
 "cells": [
  {
   "cell_type": "code",
   "execution_count": 1,
   "metadata": {},
   "outputs": [
    {
     "name": "stdout",
     "output_type": "stream",
     "text": [
      "Requirement already satisfied: pymongo in c:\\programdata\\anaconda3\\lib\\site-packages\n"
     ]
    },
    {
     "name": "stderr",
     "output_type": "stream",
     "text": [
      "You are using pip version 9.0.1, however version 19.3.1 is available.\n",
      "You should consider upgrading via the 'python -m pip install --upgrade pip' command.\n"
     ]
    }
   ],
   "source": [
    "!pip install pymongo"
   ]
  },
  {
   "cell_type": "code",
   "execution_count": 2,
   "metadata": {},
   "outputs": [],
   "source": [
    "import pymongo"
   ]
  },
  {
   "cell_type": "code",
   "execution_count": 3,
   "metadata": {},
   "outputs": [],
   "source": [
    "myclient = pymongo.MongoClient(\"mongodb://127.0.0.1:27017/\")\n",
    "mydb = myclient[\"pymangotutorial\"]\n"
   ]
  },
  {
   "cell_type": "code",
   "execution_count": 4,
   "metadata": {},
   "outputs": [
    {
     "data": {
      "text/plain": [
       "<pymongo.results.DeleteResult at 0x1ec9db0dec8>"
      ]
     },
     "execution_count": 4,
     "metadata": {},
     "output_type": "execute_result"
    }
   ],
   "source": [
    "mycol = mydb[\"sample\"]\n",
    "mycol.delete_many({})\n"
   ]
  },
  {
   "cell_type": "code",
   "execution_count": 5,
   "metadata": {},
   "outputs": [
    {
     "name": "stdout",
     "output_type": "stream",
     "text": [
      "['admin', 'config', 'local', 'pymangotutorial']\n",
      "['sample']\n"
     ]
    }
   ],
   "source": [
    "print(myclient.list_database_names())\n",
    "print(mydb.list_collection_names())"
   ]
  },
  {
   "cell_type": "code",
   "execution_count": 6,
   "metadata": {},
   "outputs": [],
   "source": [
    "mydict = { \"name\": \"Nitin\", \"address\": \"Pune\" }\n",
    "\n",
    "x = mycol.insert_one(mydict)"
   ]
  },
  {
   "cell_type": "code",
   "execution_count": 7,
   "metadata": {},
   "outputs": [
    {
     "name": "stdout",
     "output_type": "stream",
     "text": [
      "5dfcb9ce1f799d8a7f61d6c4\n"
     ]
    }
   ],
   "source": [
    "print(x.inserted_id)"
   ]
  },
  {
   "cell_type": "code",
   "execution_count": 8,
   "metadata": {},
   "outputs": [
    {
     "name": "stdout",
     "output_type": "stream",
     "text": [
      "{'_id': ObjectId('5dfcb9ce1f799d8a7f61d6c4'), 'name': 'Nitin', 'address': 'Pune'}\n"
     ]
    }
   ],
   "source": [
    "print(mycol.find_one())"
   ]
  },
  {
   "cell_type": "code",
   "execution_count": 9,
   "metadata": {},
   "outputs": [
    {
     "name": "stdout",
     "output_type": "stream",
     "text": [
      "[1, 2, 3, 4, 5, 6, 7, 8, 9, 10, 11, 12, 13, 14]\n"
     ]
    }
   ],
   "source": [
    "\n",
    "mylist = [\n",
    "  { \"_id\": 1, \"name\": \"a\", \"address\": \"A7\"},\n",
    "  { \"_id\": 2, \"name\": \"b\", \"address\": \"B\"},\n",
    "  { \"_id\": 3, \"name\": \"c\", \"address\": \"C\"},\n",
    "  { \"_id\": 4, \"name\": \"d\", \"address\": \"D\"},\n",
    "  { \"_id\": 5, \"name\": \"e\", \"address\": \"E\"},\n",
    "  { \"_id\": 6, \"name\": \"f\", \"address\": \"F\"},\n",
    "  { \"_id\": 7, \"name\": \"g\", \"address\": \"G\"},\n",
    "  { \"_id\": 8, \"name\": \"h\", \"address\": \"H\"},\n",
    "  { \"_id\": 9, \"name\": \"i\", \"address\": \"I\"},\n",
    "  { \"_id\": 10, \"name\": \"j\", \"address\": \"J\"},\n",
    "  { \"_id\": 11, \"name\": \"k\", \"address\": \"K\"},\n",
    "  { \"_id\": 12, \"name\": \"l\", \"address\": \"L\"},\n",
    "  { \"_id\": 13, \"name\": \"m\", \"address\": \"M\"},\n",
    "  { \"_id\": 14, \"name\": \"n\", \"address\": \"N\"}\n",
    "]\n",
    "\n",
    "x = mycol.insert_many(mylist)\n",
    "\n",
    "#print list of the _id values of the inserted documents:\n",
    "print(x.inserted_ids)"
   ]
  },
  {
   "cell_type": "code",
   "execution_count": 10,
   "metadata": {},
   "outputs": [
    {
     "name": "stdout",
     "output_type": "stream",
     "text": [
      "{'_id': ObjectId('5dfcb9ce1f799d8a7f61d6c4'), 'name': 'Nitin', 'address': 'Pune'}\n",
      "{'_id': 1, 'name': 'a', 'address': 'A7'}\n",
      "{'_id': 2, 'name': 'b', 'address': 'B'}\n",
      "{'_id': 3, 'name': 'c', 'address': 'C'}\n",
      "{'_id': 4, 'name': 'd', 'address': 'D'}\n",
      "{'_id': 5, 'name': 'e', 'address': 'E'}\n",
      "{'_id': 6, 'name': 'f', 'address': 'F'}\n",
      "{'_id': 7, 'name': 'g', 'address': 'G'}\n",
      "{'_id': 8, 'name': 'h', 'address': 'H'}\n",
      "{'_id': 9, 'name': 'i', 'address': 'I'}\n",
      "{'_id': 10, 'name': 'j', 'address': 'J'}\n",
      "{'_id': 11, 'name': 'k', 'address': 'K'}\n",
      "{'_id': 12, 'name': 'l', 'address': 'L'}\n",
      "{'_id': 13, 'name': 'm', 'address': 'M'}\n",
      "{'_id': 14, 'name': 'n', 'address': 'N'}\n"
     ]
    }
   ],
   "source": [
    "for x in mycol.find():\n",
    "  print(x)"
   ]
  },
  {
   "cell_type": "code",
   "execution_count": 11,
   "metadata": {},
   "outputs": [
    {
     "name": "stdout",
     "output_type": "stream",
     "text": [
      "{'address': 'Pune'}\n",
      "{'address': 'A7'}\n",
      "{'address': 'B'}\n",
      "{'address': 'C'}\n",
      "{'address': 'D'}\n",
      "{'address': 'E'}\n",
      "{'address': 'F'}\n",
      "{'address': 'G'}\n",
      "{'address': 'H'}\n",
      "{'address': 'I'}\n",
      "{'address': 'J'}\n",
      "{'address': 'K'}\n",
      "{'address': 'L'}\n",
      "{'address': 'M'}\n",
      "{'address': 'N'}\n"
     ]
    }
   ],
   "source": [
    "for x in mycol.find({},{\"_id\": 0, \"address\": 1 }):\n",
    "  print(x)"
   ]
  },
  {
   "cell_type": "code",
   "execution_count": 12,
   "metadata": {},
   "outputs": [
    {
     "name": "stdout",
     "output_type": "stream",
     "text": [
      "{'_id': ObjectId('5dfcb9ce1f799d8a7f61d6c4'), 'name': 'Nitin'}\n",
      "{'_id': 1, 'name': 'a'}\n",
      "{'_id': 2, 'name': 'b'}\n",
      "{'_id': 3, 'name': 'c'}\n",
      "{'_id': 4, 'name': 'd'}\n",
      "{'_id': 5, 'name': 'e'}\n",
      "{'_id': 6, 'name': 'f'}\n",
      "{'_id': 7, 'name': 'g'}\n",
      "{'_id': 8, 'name': 'h'}\n",
      "{'_id': 9, 'name': 'i'}\n",
      "{'_id': 10, 'name': 'j'}\n",
      "{'_id': 11, 'name': 'k'}\n",
      "{'_id': 12, 'name': 'l'}\n",
      "{'_id': 13, 'name': 'm'}\n",
      "{'_id': 14, 'name': 'n'}\n"
     ]
    }
   ],
   "source": [
    "for x in mycol.find({},{ \"address\": 0 }):\n",
    "  print(x)"
   ]
  },
  {
   "cell_type": "code",
   "execution_count": 13,
   "metadata": {},
   "outputs": [
    {
     "name": "stdout",
     "output_type": "stream",
     "text": [
      "[]\n",
      "[{'_id': ObjectId('5dfcb9ce1f799d8a7f61d6c4'), 'name': 'Nitin', 'address': 'Pune'}]\n",
      "[]\n"
     ]
    },
    {
     "data": {
      "text/plain": [
       "[{'address': 'Pune', 'name': 'Nitin'}]"
      ]
     },
     "execution_count": 13,
     "metadata": {},
     "output_type": "execute_result"
    }
   ],
   "source": [
    "print(list(mycol.find({\"address\": 0 })))\n",
    "print(list(mycol.find({\"address\": \"Pune\" })))\n",
    "print(list(mycol.find({\"address\": \"pune\" },{\"_id\": 0,\"name\":1, \"address\": 1 })))\n",
    "list(mycol.find({\"address\": \"Pune\" },{\"_id\": 0,\"name\":1, \"address\": 1 }))"
   ]
  },
  {
   "cell_type": "code",
   "execution_count": 14,
   "metadata": {},
   "outputs": [
    {
     "data": {
      "text/plain": [
       "[{'_id': 7, 'address': 'G', 'name': 'g'}]"
      ]
     },
     "execution_count": 14,
     "metadata": {},
     "output_type": "execute_result"
    }
   ],
   "source": [
    "list(mycol.find({ \"address\": { \"$regex\": \"^G\" } }))"
   ]
  },
  {
   "cell_type": "code",
   "execution_count": 15,
   "metadata": {},
   "outputs": [
    {
     "data": {
      "text/plain": [
       "[{'_id': ObjectId('5dfcb9ce1f799d8a7f61d6c4'),\n",
       "  'address': 'Pune',\n",
       "  'name': 'Nitin'},\n",
       " {'_id': 1, 'address': 'A7', 'name': 'a'},\n",
       " {'_id': 2, 'address': 'B', 'name': 'b'},\n",
       " {'_id': 3, 'address': 'C', 'name': 'c'},\n",
       " {'_id': 4, 'address': 'D', 'name': 'd'},\n",
       " {'_id': 5, 'address': 'E', 'name': 'e'},\n",
       " {'_id': 6, 'address': 'F', 'name': 'f'},\n",
       " {'_id': 7, 'address': 'G', 'name': 'g'},\n",
       " {'_id': 8, 'address': 'H', 'name': 'h'},\n",
       " {'_id': 9, 'address': 'I', 'name': 'i'},\n",
       " {'_id': 10, 'address': 'J', 'name': 'j'},\n",
       " {'_id': 11, 'address': 'K', 'name': 'k'},\n",
       " {'_id': 12, 'address': 'L', 'name': 'l'},\n",
       " {'_id': 13, 'address': 'M', 'name': 'm'},\n",
       " {'_id': 14, 'address': 'N', 'name': 'n'}]"
      ]
     },
     "execution_count": 15,
     "metadata": {},
     "output_type": "execute_result"
    }
   ],
   "source": [
    "list(mycol.find().sort(\"name\"))"
   ]
  },
  {
   "cell_type": "code",
   "execution_count": 16,
   "metadata": {},
   "outputs": [
    {
     "data": {
      "text/plain": [
       "[{'_id': 14, 'address': 'N', 'name': 'n'},\n",
       " {'_id': 13, 'address': 'M', 'name': 'm'},\n",
       " {'_id': 12, 'address': 'L', 'name': 'l'},\n",
       " {'_id': 11, 'address': 'K', 'name': 'k'},\n",
       " {'_id': 10, 'address': 'J', 'name': 'j'},\n",
       " {'_id': 9, 'address': 'I', 'name': 'i'},\n",
       " {'_id': 8, 'address': 'H', 'name': 'h'},\n",
       " {'_id': 7, 'address': 'G', 'name': 'g'},\n",
       " {'_id': 6, 'address': 'F', 'name': 'f'},\n",
       " {'_id': 5, 'address': 'E', 'name': 'e'},\n",
       " {'_id': 4, 'address': 'D', 'name': 'd'},\n",
       " {'_id': 3, 'address': 'C', 'name': 'c'},\n",
       " {'_id': 2, 'address': 'B', 'name': 'b'},\n",
       " {'_id': 1, 'address': 'A7', 'name': 'a'},\n",
       " {'_id': ObjectId('5dfcb9ce1f799d8a7f61d6c4'),\n",
       "  'address': 'Pune',\n",
       "  'name': 'Nitin'}]"
      ]
     },
     "execution_count": 16,
     "metadata": {},
     "output_type": "execute_result"
    }
   ],
   "source": [
    "list(mycol.find().sort(\"name\",-1))"
   ]
  },
  {
   "cell_type": "code",
   "execution_count": 17,
   "metadata": {},
   "outputs": [
    {
     "name": "stdout",
     "output_type": "stream",
     "text": [
      "{'_id': 1, 'name': 'a', 'address': 'A7'}\n",
      "{'_id': 2, 'name': 'b', 'address': 'B'}\n",
      "{'_id': 3, 'name': 'c', 'address': 'C'}\n",
      "{'_id': 4, 'name': 'd', 'address': 'D'}\n",
      "{'_id': 5, 'name': 'e', 'address': 'E'}\n",
      "{'_id': 6, 'name': 'f', 'address': 'F'}\n",
      "{'_id': 7, 'name': 'g', 'address': 'G'}\n",
      "{'_id': 8, 'name': 'h', 'address': 'H'}\n",
      "{'_id': 9, 'name': 'i', 'address': 'I'}\n",
      "{'_id': 10, 'name': 'j', 'address': 'J'}\n",
      "{'_id': 11, 'name': 'k', 'address': 'K'}\n",
      "{'_id': 12, 'name': 'l', 'address': 'L'}\n",
      "{'_id': 13, 'name': 'm', 'address': 'M'}\n",
      "{'_id': 14, 'name': 'n', 'address': 'N'}\n"
     ]
    }
   ],
   "source": [
    "mycol.delete_one({ \"address\": \"Pune\" })\n",
    "for x in mycol.find():\n",
    "  print(x)"
   ]
  },
  {
   "cell_type": "code",
   "execution_count": 18,
   "metadata": {},
   "outputs": [
    {
     "name": "stdout",
     "output_type": "stream",
     "text": [
      "1  documents deleted from collection.\n"
     ]
    }
   ],
   "source": [
    "count=mycol.delete_many({ \"address\": {\"$regex\": \"^A7\"} })\n",
    "print(count.deleted_count, \" documents deleted from collection.\")"
   ]
  },
  {
   "cell_type": "code",
   "execution_count": 19,
   "metadata": {},
   "outputs": [
    {
     "name": "stdout",
     "output_type": "stream",
     "text": [
      "{'_id': 2, 'name': 'b', 'address': 'B'}\n",
      "{'_id': 3, 'name': 'c', 'address': 'C'}\n",
      "{'_id': 4, 'name': 'd', 'address': 'D'}\n",
      "{'_id': 5, 'name': 'e', 'address': 'E'}\n",
      "{'_id': 6, 'name': 'f', 'address': 'F'}\n",
      "{'_id': 7, 'name': 'g', 'address': 'G'}\n",
      "{'_id': 8, 'name': 'h', 'address': 'H'}\n",
      "{'_id': 9, 'name': 'i', 'address': 'I'}\n",
      "{'_id': 10, 'name': 'j', 'address': 'J'}\n",
      "{'_id': 11, 'name': 'k', 'address': 'K'}\n",
      "{'_id': 12, 'name': 'l', 'address': 'L'}\n",
      "{'_id': 13, 'name': 'm', 'address': 'M'}\n",
      "{'_id': 14, 'name': 'n', 'address': 'n'}\n"
     ]
    }
   ],
   "source": [
    "mycol.update_one({ \"address\": \"N\" }, { \"$set\": { \"address\": \"n\" } })\n",
    "for x in mycol.find():\n",
    "  print(x)"
   ]
  },
  {
   "cell_type": "code",
   "execution_count": 20,
   "metadata": {},
   "outputs": [
    {
     "name": "stdout",
     "output_type": "stream",
     "text": [
      "1 documents updated in collection.\n"
     ]
    }
   ],
   "source": [
    "up = mycol.update_many({ \"address\": { \"$regex\": \"^n\" } }, { \"$set\": { \"name\": \"Nitin\" } })\n",
    "\n",
    "print(up.modified_count, \"documents updated in collection.\")"
   ]
  },
  {
   "cell_type": "code",
   "execution_count": null,
   "metadata": {},
   "outputs": [],
   "source": []
  }
 ],
 "metadata": {
  "kernelspec": {
   "display_name": "Python 3",
   "language": "python",
   "name": "python3"
  },
  "language_info": {
   "codemirror_mode": {
    "name": "ipython",
    "version": 3
   },
   "file_extension": ".py",
   "mimetype": "text/x-python",
   "name": "python",
   "nbconvert_exporter": "python",
   "pygments_lexer": "ipython3",
   "version": "3.6.4"
  }
 },
 "nbformat": 4,
 "nbformat_minor": 2
}
